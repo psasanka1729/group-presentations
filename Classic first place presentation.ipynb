{
 "cells": [
  {
   "cell_type": "code",
   "execution_count": 94,
   "id": "c92d6da6",
   "metadata": {},
   "outputs": [],
   "source": [
    "import numpy as np\n",
    "from scipy.sparse import identity\n",
    "import numpy as np\n",
    "from scipy import sparse\n",
    "from scipy.sparse import lil_matrix\n",
    "import scipy.sparse.linalg\n",
    "from qiskit import QuantumCircuit, QuantumRegister\n",
    "from qiskit.quantum_info.operators import Operator\n",
    "import sys\n",
    "from qiskit import*\n",
    "from qiskit import Aer\n",
    "import qiskit.quantum_info as qi\n",
    "import numpy as np\n",
    "import re\n",
    "from scipy.sparse import identity\n",
    "import numpy as np\n",
    "from scipy import sparse\n",
    "from scipy.sparse import lil_matrix\n",
    "import scipy.sparse.linalg"
   ]
  },
  {
   "cell_type": "code",
   "execution_count": 139,
   "id": "8e2ea9d9",
   "metadata": {},
   "outputs": [],
   "source": [
    "def MCX_Q(c,t,N):\n",
    "    ## Changing the simulator \n",
    "    backend = Aer.get_backend('unitary_simulator')\n",
    "\n",
    "    ## The circuit without measurement\n",
    "    circ = QuantumCircuit(N)\n",
    "    circ.mcx(c,t)\n",
    "\n",
    "    ## job execution and getting the result as an object\n",
    "    job = execute(circ, backend)\n",
    "    result = job.result()\n",
    "\n",
    "    ## get the unitary matrix from the result object\n",
    "    return np.matrix(result.get_unitary(circ))"
   ]
  },
  {
   "cell_type": "code",
   "execution_count": 15,
   "id": "d509e19b",
   "metadata": {},
   "outputs": [],
   "source": [
    "def MCX(c,t,N):\n",
    "    \n",
    "    '''\n",
    "    \n",
    "    A multicontrolled U gate with controls c (list) and target qubit t is given by \n",
    "    \n",
    "    I x I x ... x I x I - PI1 x PI1 x ... x PI1 x PI1 + PI1 x PI1 x ... x PI1 x U.\n",
    "    \n",
    "    \n",
    "    '''\n",
    "    \n",
    "    p0 = ['I']*N\n",
    "    p1 = ['I']*N\n",
    "    \n",
    "    if type(c) == list:\n",
    "        \n",
    "        for i in c:\n",
    "            p0[i] = 'PI_1'\n",
    "            p1[i] = 'PI_1'\n",
    "    else:\n",
    "        p0[c] = 'PI_1'\n",
    "        p1[c] = 'PI_1'\n",
    "    p0[t] = 'I'\n",
    "    p1[t] = 'U'\n",
    "    \n",
    "    I = np.identity(2)\n",
    "    Z = np.matrix([[1,0],[0,-1]])\n",
    "    X = np.matrix([[0,1],[1,0]])\n",
    "    PI_0 = (I+Z)/2\n",
    "    PI_1 = (I-Z)/2\n",
    "    \n",
    "\n",
    "    U = X\n",
    "        \n",
    "\n",
    "    Matrices = {'I':I,'PI_0':PI_0,'U':U, 'PI_1':PI_1}\n",
    "    \n",
    "\n",
    "    PI_0_matrix = Matrices[p0[0]]\n",
    "    for i in range(1,N):\n",
    "        PI_0_matrix = sparse.kron(PI_0_matrix, Matrices[p0[i]])\n",
    "        \n",
    "    PI_1_matrix = Matrices[p1[0]]\n",
    "    for i in range(1,N):\n",
    "        PI_1_matrix = sparse.kron(PI_1_matrix, Matrices[p1[i]])\n",
    "        \n",
    "    return np.identity(2**N)-PI_0_matrix+PI_1_matrix"
   ]
  },
  {
   "cell_type": "code",
   "execution_count": 67,
   "id": "d4236e9d",
   "metadata": {},
   "outputs": [],
   "source": [
    "#N = 3\n",
    "def Hadamard_gate(): # Hadamad gate acting on one qubit.\n",
    "    \n",
    "    return 1/np.sqrt(2)*np.array([[1,1],[1,-1]])\n",
    "\n",
    "def RY(theta):\n",
    "    return np.array([[np.cos(theta/2), -np.sin(theta/2)], [np.sin(theta/2), np.cos(theta/2)]])\n",
    "\n",
    "def PauliZ():\n",
    "    return np.array([[1,0],[0,-1]])\n",
    "\n",
    "# H = RY(pi/2)*Z\n",
    "\n",
    "def Hadamard(Qubit,N): \n",
    "\n",
    "    '''\n",
    "\n",
    "    List below will hold gates acting on one qubit. For example, for L = 3,\n",
    "    the Hadamard gate acting on the qubit 1 is given by = 1 x H x 1, where \n",
    "    x is the Kronecker product. Then, qubits_list = [1,H,1].\n",
    "\n",
    "    ''' \n",
    "\n",
    "    qubits_list = [] \n",
    "    \n",
    "    for i in range(N):\n",
    "        \n",
    "        if i == Qubit: # Qubit^th position in the list is H.\n",
    "            \n",
    "            qubits_list.append(np.matmul(RY(np.pi/2),PauliZ()))\n",
    "            \n",
    "        else: # Other gates are identity operators.\n",
    "            \n",
    "            qubits_list.append(np.identity(2))\n",
    "\n",
    "    '''\n",
    "    \n",
    "    The following loop performs the Kronecker product.\n",
    "\n",
    "    '''        \n",
    "    \n",
    "    M = sparse.csr_matrix(qubits_list[0]) # Initializes the final matrix.\n",
    "    \n",
    "    for g in range(1,len(qubits_list)):\n",
    "        \n",
    "        M = sparse.kron(M, qubits_list[g]) # kronecker product.\n",
    "        \n",
    "    return M"
   ]
  },
  {
   "cell_type": "code",
   "execution_count": 18,
   "id": "0d670ce1",
   "metadata": {},
   "outputs": [],
   "source": [
    "def Rz_matrix(theta):\n",
    "\n",
    "    return np.matrix([[np.exp(-1j*theta/2),0],[0,np.exp(1j*theta/2)]])\n",
    "\n",
    "def Rz(Angle, Qubit):\n",
    "    \n",
    "    if Qubit > N -1 :\n",
    "        \n",
    "        print(\"Qubit number exceeds N\")\n",
    "        \n",
    "    else:    \n",
    "    \n",
    "        qubits_list = []\n",
    "    \n",
    "        for i in range(N):\n",
    "        \n",
    "            if i == Qubit:\n",
    "            \n",
    "                qubits_list.append(Rz_matrix(Angle))\n",
    "            \n",
    "            else:\n",
    "            \n",
    "                qubits_list.append(np.matrix(np.identity(2)))\n",
    "    \n",
    "        M = sparse.csr_matrix(qubits_list[0])\n",
    "    \n",
    "        for g in range(1,len(qubits_list)):\n",
    "        \n",
    "            M = sparse.kron(qubits_list[g], M) # kronecker product.\n",
    "        \n",
    "        return M"
   ]
  },
  {
   "cell_type": "code",
   "execution_count": 19,
   "id": "dba915a1",
   "metadata": {},
   "outputs": [],
   "source": [
    "def Ry_matrix(theta):\n",
    "\n",
    "    return np.matrix([[np.cos(theta/2), np.sin(theta/2)],[-np.sin(theta/2),np.cos(theta/2)]])\n",
    "\n",
    "def Ry(Angle, Qubit):\n",
    "    \n",
    "    if Qubit > N -1 :\n",
    "        \n",
    "        print(\"Qubit number exceeds N\")\n",
    "        \n",
    "    else:    \n",
    "    \n",
    "        qubits_list = []\n",
    "    \n",
    "        for i in range(N):\n",
    "        \n",
    "            if i == Qubit:\n",
    "            \n",
    "                qubits_list.append(Ry_matrix(Angle))\n",
    "            \n",
    "            else:\n",
    "            \n",
    "                qubits_list.append(np.matrix(np.identity(2)))\n",
    "    \n",
    "        M = sparse.csr_matrix(qubits_list[0])\n",
    "    \n",
    "        for g in range(1,len(qubits_list)):\n",
    "        \n",
    "            M = sparse.kron(qubits_list[g], M) # kronecker product.\n",
    "        \n",
    "        return M"
   ]
  },
  {
   "cell_type": "markdown",
   "id": "45f5f003",
   "metadata": {},
   "source": [
    "# Reduced Toffoli gate"
   ]
  },
  {
   "cell_type": "code",
   "execution_count": 198,
   "id": "b859a1d1",
   "metadata": {},
   "outputs": [],
   "source": [
    "sim = Aer.get_backend('aer_simulator')  # Tell Qiskit how to simulate our circuit\n",
    "\n",
    "def Reduced_Toffoli(Input_String):\n",
    "\n",
    "    qc = QuantumCircuit(3)  # Create a quantum circuit with one qubit\n",
    "    #one  = [0,1] # Define initial_state as |1>\n",
    "    #zero = [1,0] \n",
    "    \n",
    "    BITS = {'1':[0,1], '0':[1,0]}\n",
    "    \n",
    "    qc.initialize( BITS[Input_String[0]] , 0) # Apply initialisation operation to the 0th qubit\n",
    "    qc.initialize(BITS[Input_String[1]], 1)\n",
    "    qc.initialize(BITS[Input_String[2]], 2)\n",
    "    \n",
    "\n",
    "    ''' Circuit starts here   '''\n",
    "\n",
    "    qc.h(2)\n",
    "    qc.cx(1,2)\n",
    "    qc.rz(-np.pi/4,2)\n",
    "    qc.cx(0,2)\n",
    "    qc.rz(np.pi/4,2)\n",
    "    qc.cx(1,2)\n",
    "    \n",
    "    #qc.rz(np.pi/4,1)\n",
    "    \n",
    "    qc.rz(-np.pi/4,2)\n",
    "    qc.cx(0,2)\n",
    "    \n",
    "   #qc.cx(0,1)\n",
    "\n",
    "    qc.rz(np.pi/4,2)\n",
    "    \n",
    "    #qc.rz(np.pi/4,0)\n",
    "    #qc.rz(-np.pi/4,1)\n",
    "    \n",
    "    qc.h(2)\n",
    "    \n",
    "    #qc.cx(0,1)\n",
    "\n",
    "    ''' Circuit ends here   '''\n",
    "\n",
    "    \n",
    "    \n",
    "    qc.save_statevector() \n",
    "    qobj = assemble(qc)     # Create a Qobj from the circuit for the simulator to run\n",
    "    result = sim.run(qobj).result() # Do the simulation and return the result\n",
    "\n",
    "    out_state = result.get_statevector()\n",
    "    #print(out_state) # Display the output state vector\n",
    "    \n",
    "    \n",
    "    qobj = assemble(qc)\n",
    "    result = sim.run(qobj).result()\n",
    "    counts = result.get_counts()\n",
    "    return qc,counts\n"
   ]
  },
  {
   "cell_type": "code",
   "execution_count": 202,
   "id": "e46dc4e6",
   "metadata": {},
   "outputs": [
    {
     "name": "stdout",
     "output_type": "stream",
     "text": [
      "Input : 000 \t output : {'000': 1.0}\n",
      "Input : 100 \t output : {'100': 1.0}\n",
      "Input : 010 \t output : {'010': 1.0}\n",
      "Input : 001 \t output : {'001': 1.0}\n",
      "Input : 110 \t output : {'110': 1.0}\n",
      "Input : 101 \t output : {'101': 1.0}\n",
      "Input : 011 \t output : {'111': 1.0}\n",
      "Input : 111 \t output : {'011': 1.0}\n"
     ]
    }
   ],
   "source": [
    "for string in Bin3:\n",
    "    print('Input :', string[::-1], '\\t output :', Reduced_Toffoli(string)[1])"
   ]
  },
  {
   "cell_type": "code",
   "execution_count": 30,
   "id": "081c12bd",
   "metadata": {},
   "outputs": [],
   "source": [
    "#CIRCUIT.measure_all()\n",
    "#CIRCUIT.draw(\"mpl\")"
   ]
  },
  {
   "cell_type": "markdown",
   "id": "e07626eb",
   "metadata": {},
   "source": [
    "# $R_{Y}(\\theta)$ based Toffoli gate"
   ]
  },
  {
   "cell_type": "code",
   "execution_count": 172,
   "id": "8732312d",
   "metadata": {},
   "outputs": [],
   "source": [
    "sim = Aer.get_backend('aer_simulator')  # Tell Qiskit how to simulate our circuit\n",
    "def RY_Based_Toffoli(Input_String):\n",
    "\n",
    "    qc = QuantumCircuit(3)  # Create a quantum circuit with one qubit\n",
    "    #one  = [0,1] # Define initial_state as |1>\n",
    "    #zero = [1,0] \n",
    "    \n",
    "    BITS = {'1':[0,1], '0':[1,0]}\n",
    "    \n",
    "    qc.initialize( BITS[Input_String[0]] , 0) # Apply initialisation operation to the 0th qubit\n",
    "    qc.initialize(BITS[Input_String[1]], 1)\n",
    "    qc.initialize(BITS[Input_String[2]], 2)\n",
    "\n",
    "    ''' Circuit starts here   '''\n",
    "\n",
    "    qc.ry(np.pi/4,2)\n",
    "    qc.cx(1,2)\n",
    "    qc.ry(np.pi/4,2)\n",
    "    qc.cx(0,2)\n",
    "    qc.ry(-np.pi/4,2)\n",
    "    qc.cx(1,2)\n",
    "    qc.ry(-np.pi/4,2)\n",
    "    \n",
    "    ''' Circuit ends here   '''\n",
    "\n",
    "    qc.save_statevector() \n",
    "    qobj = assemble(qc)     # Create a Qobj from the circuit for the simulator to run\n",
    "    result = sim.run(qobj).result() # Do the simulation and return the result\n",
    "\n",
    "    out_state = result.get_statevector()\n",
    "    #print(out_state) # Display the output state vector\n",
    "    \n",
    "    \n",
    "    qobj = assemble(qc)\n",
    "    result = sim.run(qobj).result()\n",
    "    counts = result.get_counts()\n",
    "    return qc,counts"
   ]
  },
  {
   "cell_type": "code",
   "execution_count": 177,
   "id": "2d575b90",
   "metadata": {},
   "outputs": [],
   "source": [
    "Bin3 = ['000','001','010','100','011','101','110','111']"
   ]
  },
  {
   "cell_type": "code",
   "execution_count": 190,
   "id": "10e65cc1",
   "metadata": {},
   "outputs": [
    {
     "name": "stdout",
     "output_type": "stream",
     "text": [
      "Input : 000 \t output : {'000': 1.0}\n",
      "Input : 100 \t output : {'100': 1.0}\n",
      "Input : 010 \t output : {'010': 1.0}\n",
      "Input : 001 \t output : {'001': 1.0}\n",
      "Input : 110 \t output : {'110': 1.0}\n",
      "Input : 101 \t output : {'101': 1.0}\n",
      "Input : 011 \t output : {'111': 1.0}\n",
      "Input : 111 \t output : {'011': 1.0}\n"
     ]
    }
   ],
   "source": [
    "for string in Bin3:\n",
    "    print('Input :', string[::-1], '\\t output :', RY_Based_Toffoli(string)[1])"
   ]
  },
  {
   "cell_type": "code",
   "execution_count": null,
   "id": "520a24d9",
   "metadata": {},
   "outputs": [],
   "source": []
  },
  {
   "cell_type": "code",
   "execution_count": 179,
   "id": "14f410d4",
   "metadata": {},
   "outputs": [],
   "source": [
    "#CIRCUIT.measure_all()\n",
    "#CIRCUIT.draw(\"mpl\")"
   ]
  },
  {
   "cell_type": "markdown",
   "id": "b86ba999",
   "metadata": {},
   "source": [
    "# $R_Y$-based CCCX gate with 15 elementary gates"
   ]
  },
  {
   "cell_type": "code",
   "execution_count": 237,
   "id": "e714e0d0",
   "metadata": {},
   "outputs": [],
   "source": [
    "sim = Aer.get_backend('aer_simulator')  # Tell Qiskit how to simulate our circuit\n",
    "def RY_Based_CCCX_15(Input_String):\n",
    "\n",
    "    qc = QuantumCircuit(4)  # Create a quantum circuit with one qubit\n",
    "    #one  = [0,1] # Define initial_state as |1>\n",
    "    #zero = [1,0] \n",
    "    \n",
    "    BITS = {'1':[0,1], '0':[1,0]}\n",
    "    \n",
    "    qc.initialize( BITS[Input_String[0]] , 0) # Apply initialisation operation to the 0th qubit\n",
    "    qc.initialize(BITS[Input_String[1]], 1)\n",
    "    qc.initialize(BITS[Input_String[2]], 2)\n",
    "    qc.initialize(BITS[Input_String[3]], 3)\n",
    "\n",
    "    ''' Circuit starts here   '''\n",
    "\n",
    "    qc.ry(3*np.pi/8,3)\n",
    "    qc.cx(2,3)\n",
    "    qc.ry(np.pi/8,3)\n",
    "    qc.cx(1,3)\n",
    "    qc.ry(-np.pi/8,3)\n",
    "    qc.cx(2,3)\n",
    "    qc.ry(np.pi/8,3)\n",
    "    qc.cx(0,3)\n",
    "    qc.ry(-np.pi/8,3)\n",
    "    qc.cx(2,3)\n",
    "    qc.ry(np.pi/8,3)\n",
    "    qc.cx(1,3)\n",
    "    qc.ry(-np.pi/8,3)\n",
    "    qc.cx(2,3)\n",
    "    qc.ry(-3*np.pi/8,3)\n",
    "    \n",
    "    ''' Circuit ends here   '''\n",
    "\n",
    "    qc.save_statevector() \n",
    "    qobj = assemble(qc)     # Create a Qobj from the circuit for the simulator to run\n",
    "    result = sim.run(qobj).result() # Do the simulation and return the result\n",
    "\n",
    "    out_state = result.get_statevector()\n",
    "    #print(out_state) # Display the output state vector\n",
    "    \n",
    "    \n",
    "    qobj = assemble(qc)\n",
    "    result = sim.run(qobj).result()\n",
    "    counts = result.get_counts()\n",
    "    return qc,counts"
   ]
  },
  {
   "cell_type": "code",
   "execution_count": 324,
   "id": "c79b5523",
   "metadata": {},
   "outputs": [
    {
     "data": {
      "image/png": "[encoded data removed]",
      "text/plain": [
       "<Figure size 989.597x264.88 with 1 Axes>"
      ]
     },
     "execution_count": 324,
     "metadata": {},
     "output_type": "execute_result"
    }
   ],
   "source": [
    "qc15 = QuantumCircuit(4)\n",
    "\n",
    "qc15.ry(3*np.pi/8,3)\n",
    "qc15.cx(2,3)\n",
    "qc15.ry(np.pi/8,3)\n",
    "qc15.cx(1,3)\n",
    "qc15.ry(-np.pi/8,3)\n",
    "qc15.cx(2,3)\n",
    "qc15.ry(np.pi/8,3)\n",
    "qc15.cx(0,3)\n",
    "qc15.ry(-np.pi/8,3)\n",
    "qc15.cx(2,3)\n",
    "qc15.ry(np.pi/8,3)\n",
    "qc15.cx(1,3)\n",
    "qc15.ry(-np.pi/8,3)\n",
    "qc15.cx(2,3)\n",
    "qc15.ry(-3*np.pi/8,3)\n",
    "\n",
    "qc15.draw(\"mpl\")"
   ]
  },
  {
   "cell_type": "code",
   "execution_count": 330,
   "id": "e91ab1c3",
   "metadata": {},
   "outputs": [
    {
     "name": "stdout",
     "output_type": "stream",
     "text": [
      "Depth = 15\n",
      "Gate count = OrderedDict([('ry', 8), ('cx', 7)])\n"
     ]
    }
   ],
   "source": [
    "print('Depth = '+str(qc15.depth()))\n",
    "print('Gate count = ' +str(qc15.count_ops()))"
   ]
  },
  {
   "cell_type": "code",
   "execution_count": 246,
   "id": "8e1c97df",
   "metadata": {},
   "outputs": [],
   "source": [
    "Bin4 = ['0000','0001','0010','0011','0101','0110', '0111','1011',\n",
    "        '0100','1000','1001','1010','1100','1101','1110','1111']"
   ]
  },
  {
   "cell_type": "markdown",
   "id": "c1202656",
   "metadata": {},
   "source": [
    "## Input and output check"
   ]
  },
  {
   "cell_type": "code",
   "execution_count": 238,
   "id": "b08c599f",
   "metadata": {},
   "outputs": [
    {
     "name": "stdout",
     "output_type": "stream",
     "text": [
      "Input : 0000 \t output : {'0000': 0.999999999999999}\n",
      "Input : 1000 \t output : {'1000': 0.999999999999999}\n",
      "Input : 0100 \t output : {'0100': 1.0}\n",
      "Input : 1100 \t output : {'1100': 1.0}\n",
      "Input : 1010 \t output : {'1010': 0.999999999999999}\n",
      "Input : 0110 \t output : {'0110': 1.0}\n",
      "Input : 1110 \t output : {'1110': 1.0}\n",
      "Input : 1101 \t output : {'1101': 0.999999999999999}\n",
      "Input : 0010 \t output : {'0010': 0.999999999999999}\n",
      "Input : 0001 \t output : {'0001': 0.999999999999999}\n",
      "Input : 1001 \t output : {'1001': 0.999999999999999}\n",
      "Input : 0101 \t output : {'0101': 0.999999999999999}\n",
      "Input : 0011 \t output : {'0011': 0.999999999999999}\n",
      "Input : 1011 \t output : {'1011': 0.999999999999999}\n",
      "Input : 0111 \t output : {'1111': 1.0}\n",
      "Input : 1111 \t output : {'0111': 1.0}\n"
     ]
    }
   ],
   "source": [
    "for string in Bin4:\n",
    "    print('Input :', string[::-1], '\\t output :', RY_Based_CCCX_15(string)[1])"
   ]
  },
  {
   "cell_type": "markdown",
   "id": "883e58fc",
   "metadata": {},
   "source": [
    "# $R_y$ based CCCX gate with 14 elementary gates "
   ]
  },
  {
   "cell_type": "code",
   "execution_count": 318,
   "id": "b0d88b56",
   "metadata": {},
   "outputs": [],
   "source": [
    "sim = Aer.get_backend('aer_simulator')  # Tell Qiskit how to simulate our circuit\n",
    "def RY_Based_CCCX_14(Input_String):\n",
    "\n",
    "    qc = QuantumCircuit(4)  # Create a quantum circuit with one qubit\n",
    "    #one  = [0,1] # Define initial_state as |1>\n",
    "    #zero = [1,0] \n",
    "    \n",
    "    BITS = {'1':[0,1], '0':[1,0]}\n",
    "    \n",
    "    qc.initialize( BITS[Input_String[0]] , 0) # Apply initialisation operation to the 0th qubit\n",
    "    qc.initialize(BITS[Input_String[1]], 1)\n",
    "    qc.initialize(BITS[Input_String[2]], 2)\n",
    "    qc.initialize(BITS[Input_String[3]], 3)\n",
    "\n",
    "    ''' Circuit starts here   '''\n",
    "\n",
    "    qc.ry(np.pi/4,3)\n",
    "    qc.cx(2,3)\n",
    "    qc.ry(np.pi/4,3)\n",
    "    qc.h(3)\n",
    "    qc.cx(1,3)\n",
    "    qc.rz(-np.pi/4,3)\n",
    "    qc.cx(0,3)\n",
    "    qc.rz(np.pi/4,3)\n",
    "    qc.cx(1,3)\n",
    "    qc.rz(-np.pi/4,3)\n",
    "    qc.cx(0,3)\n",
    "    qc.rz(-3*np.pi/4,3)\n",
    "    qc.ry(np.pi/4,3)\n",
    "    qc.cx(2,3)\n",
    "    qc.ry(-np.pi/4,3)\n",
    "    \n",
    "    ''' Circuit ends here   '''\n",
    "\n",
    "    qc.save_statevector() \n",
    "    qobj = assemble(qc)     # Create a Qobj from the circuit for the simulator to run\n",
    "    result = sim.run(qobj).result() # Do the simulation and return the result\n",
    "\n",
    "    out_state = result.get_statevector()\n",
    "    #print(out_state) # Display the output state vector\n",
    "    \n",
    "    \n",
    "    qobj = assemble(qc)\n",
    "    result = sim.run(qobj).result()\n",
    "    counts = result.get_counts()\n",
    "    return qc,counts"
   ]
  },
  {
   "cell_type": "code",
   "execution_count": 321,
   "id": "6cc05ef9",
   "metadata": {},
   "outputs": [
    {
     "data": {
      "image/png": "[encoded data removed]",
      "text/plain": [
       "<Figure size 989.597x264.88 with 1 Axes>"
      ]
     },
     "execution_count": 321,
     "metadata": {},
     "output_type": "execute_result"
    }
   ],
   "source": [
    "qc14 = QuantumCircuit(4)\n",
    "\n",
    "qc14.ry(np.pi/4,3)\n",
    "qc14.cx(2,3)\n",
    "qc14.ry(np.pi/4,3)\n",
    "qc14.h(3)\n",
    "qc14.cx(1,3)\n",
    "qc14.rz(-np.pi/4,3)\n",
    "qc14.cx(0,3)\n",
    "qc14.rz(np.pi/4,3)\n",
    "qc14.cx(1,3)\n",
    "qc14.rz(-np.pi/4,3)\n",
    "qc14.cx(0,3)\n",
    "qc14.rz(-3*np.pi/4,3)\n",
    "qc14.ry(np.pi/4,3)\n",
    "qc14.cx(2,3)\n",
    "qc14.ry(-np.pi/4,3)\n",
    "qc14.draw(\"mpl\")"
   ]
  },
  {
   "cell_type": "code",
   "execution_count": 331,
   "id": "54a97d36",
   "metadata": {},
   "outputs": [
    {
     "name": "stdout",
     "output_type": "stream",
     "text": [
      "Depth = 15\n",
      "Gate count = OrderedDict([('cx', 6), ('ry', 4), ('rz', 4), ('h', 1)])\n"
     ]
    }
   ],
   "source": [
    "print('Depth = '+str(qc14.depth()))\n",
    "print('Gate count = ' +str(qc14.count_ops()))"
   ]
  },
  {
   "cell_type": "markdown",
   "id": "c71128d5",
   "metadata": {},
   "source": [
    "## Input and output"
   ]
  },
  {
   "cell_type": "code",
   "execution_count": 319,
   "id": "5ca37483",
   "metadata": {},
   "outputs": [
    {
     "name": "stdout",
     "output_type": "stream",
     "text": [
      "Input : 0000 \t output : {'0000': 1.0}\n",
      "Input : 1000 \t output : {'1000': 1.0}\n",
      "Input : 0100 \t output : {'0100': 1.0}\n",
      "Input : 1100 \t output : {'1100': 0.999999999999999}\n",
      "Input : 1010 \t output : {'1010': 1.0}\n",
      "Input : 0110 \t output : {'0110': 1.0}\n",
      "Input : 1110 \t output : {'1110': 0.999999999999999}\n",
      "Input : 1101 \t output : {'1101': 1.0}\n",
      "Input : 0010 \t output : {'0010': 1.0}\n",
      "Input : 0001 \t output : {'0001': 1.0}\n",
      "Input : 1001 \t output : {'1001': 1.0}\n",
      "Input : 0101 \t output : {'0101': 1.0}\n",
      "Input : 0011 \t output : {'0011': 1.0}\n",
      "Input : 1011 \t output : {'1011': 1.0}\n",
      "Input : 0111 \t output : {'1111': 1.0}\n",
      "Input : 1111 \t output : {'0111': 1.0}\n"
     ]
    }
   ],
   "source": [
    "for string in Bin4:\n",
    "    print('Input :', string[::-1], '\\t output :', RY_Based_CCCX_14(string)[1])"
   ]
  },
  {
   "cell_type": "markdown",
   "id": "c17ea928",
   "metadata": {},
   "source": [
    "# $R_y$ based CCCCX gate"
   ]
  },
  {
   "cell_type": "code",
   "execution_count": 263,
   "id": "912fc99a",
   "metadata": {},
   "outputs": [],
   "source": [
    "sim = Aer.get_backend('aer_simulator')  # Tell Qiskit how to simulate our circuit\n",
    "def RY_Based_CCCCX(Input_String):\n",
    "\n",
    "    qc = QuantumCircuit(5)  # Create a quantum circuit with one qubit\n",
    "    #one  = [0,1] # Define initial_state as |1>\n",
    "    #zero = [1,0] \n",
    "    \n",
    "    BITS = {'1':[0,1], '0':[1,0]}\n",
    "    \n",
    "    qc.initialize(BITS[Input_String[0]], 0) # Apply initialisation operation to the 0th qubit\n",
    "    qc.initialize(BITS[Input_String[1]], 1)\n",
    "    qc.initialize(BITS[Input_String[2]], 2)\n",
    "    qc.initialize(BITS[Input_String[3]], 3)\n",
    "    qc.initialize(BITS[Input_String[4]], 4)\n",
    "\n",
    "    ''' Circuit starts here   '''\n",
    "\n",
    "    qc.ry(3*np.pi/8,4)\n",
    "    qc.cx(3,4)\n",
    "    qc.ry(np.pi/8,4)\n",
    "    qc.cx(2,4)\n",
    "    qc.ry(-np.pi/8,4)\n",
    "    qc.cx(3,4)\n",
    "    qc.ry(np.pi/8,4)\n",
    "    qc.h(4)\n",
    "    qc.cx(1,4)\n",
    "    qc.rz(-np.pi/4,4)\n",
    "    qc.cx(0,4)\n",
    "    qc.rz(np.pi/4,4)\n",
    "    qc.cx(1,4)\n",
    "    qc.rz(-np.pi/4,4)\n",
    "    qc.cx(0,4)\n",
    "    qc.rz(-3*np.pi/4,4)\n",
    "    qc.ry(3*np.pi/8,4)\n",
    "    qc.cx(3,4)\n",
    "    qc.ry(np.pi/8,4)\n",
    "    qc.cx(2,4)\n",
    "    qc.ry(-np.pi/8,4)\n",
    "    qc.cx(3,4)\n",
    "    qc.ry(-3*np.pi/8,4)\n",
    "    \n",
    "    ''' Circuit ends here   '''\n",
    "\n",
    "    qc.save_statevector() \n",
    "    qobj = assemble(qc)     # Create a Qobj from the circuit for the simulator to run\n",
    "    result = sim.run(qobj).result() # Do the simulation and return the result\n",
    "\n",
    "    out_state = result.get_statevector()\n",
    "    #print(out_state) # Display the output state vector\n",
    "    \n",
    "    \n",
    "    qobj = assemble(qc)\n",
    "    result = sim.run(qobj).result()\n",
    "    counts = result.get_counts()\n",
    "    return qc,counts"
   ]
  },
  {
   "cell_type": "code",
   "execution_count": 260,
   "id": "041ff95b",
   "metadata": {},
   "outputs": [],
   "source": [
    "Bin5 = [\n",
    "    '00000',\n",
    "    '00001',\n",
    "    '00010',\n",
    "    '00011',\n",
    "    '00100',\n",
    "    '00101',\n",
    "    '00110',\n",
    "    '00111',\n",
    "    '01000',\n",
    "    '01001',\n",
    "    '01010',\n",
    "    '01011',\n",
    "    '01100',\n",
    "    '01101',\n",
    "    '01110',\n",
    "    '01111',\n",
    "    '10000',\n",
    "    '10001',\n",
    "    '10010',\n",
    "    '10011',\n",
    "    '10100',\n",
    "    '10101',\n",
    "    '10110',\n",
    "    '10111',\n",
    "    '11000',\n",
    "    '11001',\n",
    "    '11010',\n",
    "    '11011',\n",
    "    '11100',\n",
    "    '11101',\n",
    "    '11110',\n",
    "    '11111'  \n",
    "]"
   ]
  },
  {
   "cell_type": "markdown",
   "id": "95bac0a8",
   "metadata": {},
   "source": [
    "## Input and output"
   ]
  },
  {
   "cell_type": "code",
   "execution_count": 264,
   "id": "32bced86",
   "metadata": {},
   "outputs": [
    {
     "name": "stdout",
     "output_type": "stream",
     "text": [
      "Input : 00000 \t output : {'00000': 0.999999999999999}\n",
      "Input : 10000 \t output : {'10000': 0.999999999999999}\n",
      "Input : 01000 \t output : {'01000': 0.999999999999999}\n",
      "Input : 11000 \t output : {'11000': 1.0}\n",
      "Input : 00100 \t output : {'00100': 0.999999999999999}\n",
      "Input : 10100 \t output : {'10100': 0.999999999999999}\n",
      "Input : 01100 \t output : {'01100': 1.0}\n",
      "Input : 11100 \t output : {'11100': 1.0}\n",
      "Input : 00010 \t output : {'00010': 0.999999999999999}\n",
      "Input : 10010 \t output : {'10010': 0.999999999999999}\n",
      "Input : 01010 \t output : {'01010': 0.999999999999999}\n",
      "Input : 11010 \t output : {'11010': 0.999999999999999}\n",
      "Input : 00110 \t output : {'00110': 0.999999999999999}\n",
      "Input : 10110 \t output : {'10110': 0.999999999999999}\n",
      "Input : 01110 \t output : {'01110': 0.999999999999999}\n",
      "Input : 11110 \t output : {'11110': 1.0}\n",
      "Input : 00001 \t output : {'00001': 0.999999999999999}\n",
      "Input : 10001 \t output : {'10001': 0.999999999999999}\n",
      "Input : 01001 \t output : {'01001': 1.0}\n",
      "Input : 11001 \t output : {'11001': 0.999999999999999}\n",
      "Input : 00101 \t output : {'00101': 0.999999999999999}\n",
      "Input : 10101 \t output : {'10101': 0.999999999999999}\n",
      "Input : 01101 \t output : {'01101': 0.999999999999999}\n",
      "Input : 11101 \t output : {'11101': 1.0}\n",
      "Input : 00011 \t output : {'00011': 0.999999999999999}\n",
      "Input : 10011 \t output : {'10011': 0.999999999999999}\n",
      "Input : 01011 \t output : {'01011': 0.999999999999999}\n",
      "Input : 11011 \t output : {'11011': 1.0}\n",
      "Input : 00111 \t output : {'00111': 0.999999999999999}\n",
      "Input : 10111 \t output : {'10111': 0.999999999999999}\n",
      "Input : 01111 \t output : {'11111': 1.0}\n",
      "Input : 11111 \t output : {'01111': 1.0}\n"
     ]
    }
   ],
   "source": [
    "for string in Bin5:\n",
    "    print('Input :', string[::-1], '\\t output :', RY_Based_CCCCX(string)[1])"
   ]
  },
  {
   "cell_type": "markdown",
   "id": "6a3ee730",
   "metadata": {},
   "source": [
    "# Exact Toffoli gate"
   ]
  },
  {
   "cell_type": "markdown",
   "id": "24a43683",
   "metadata": {},
   "source": [
    "## Rz control commutation"
   ]
  },
  {
   "attachments": {
    "Screen%20Shot%202022-07-18%20at%2017.04.20.png": {
     "image/png": "[encoded data removed]"
    }
   },
   "cell_type": "markdown",
   "id": "d2ee4b6d",
   "metadata": {},
   "source": [
    "![Screen%20Shot%202022-07-18%20at%2017.04.20.png](attachment:Screen%20Shot%202022-07-18%20at%2017.04.20.png)"
   ]
  },
  {
   "cell_type": "markdown",
   "id": "1a467357",
   "metadata": {},
   "source": [
    "### LHS\n",
    "\n",
    "$$\n",
    "CX(0,1)\\;  R_{z}(\\theta) = \\begin{bmatrix}\n",
    "                            1 & 0 & 0 & 0\\\\\n",
    "                            0 & 1 & 0 & 0\\\\\n",
    "                            0 & 0 & 0 & 1\\\\\n",
    "                            0 & 0 & 1 & 0\n",
    "                            \\end{bmatrix} \n",
    "                            \\begin{bmatrix}\n",
    "                            \\exp{-i\\theta/2} & 0 & 0 & 0\\\\\n",
    "                            0 & \\exp{-i\\theta/2} & 0 & 0\\\\\n",
    "                            0 & 0 & \\exp{i\\theta/2} & 0\\\\\n",
    "                            0 & 0 & 0 & \\exp{i\\theta/2}\n",
    "                            \\end{bmatrix}\n",
    "                            =\\begin{bmatrix}\n",
    "                            \\exp{-i\\theta/2} & 0 & 0 & 0\\\\\n",
    "                            0 & \\exp{-i\\theta/2} & 0 & 0\\\\\n",
    "                            0 & 0 & 0 & \\exp{i\\theta/2}\\\\\n",
    "                            0 & 0 & \\exp{i\\theta/2} & 0   \n",
    "                            \\end{bmatrix}$$"
   ]
  },
  {
   "cell_type": "markdown",
   "id": "0f8baca4",
   "metadata": {},
   "source": [
    "### RHS\n",
    "\n",
    "$$\n",
    "R_{z}(\\theta)\\;CX(0,1) = \n",
    "                           \\begin{bmatrix}\n",
    "                            \\exp{-i\\theta/2} & 0 & 0 & 0\\\\\n",
    "                            0 & \\exp{-i\\theta/2} & 0 & 0\\\\\n",
    "                            0 & 0 & \\exp{i\\theta/2} & 0\\\\\n",
    "                            0 & 0 & 0 & \\exp{i\\theta/2}\n",
    "                            \\end{bmatrix}\n",
    "                            \\begin{bmatrix}\n",
    "                            1 & 0 & 0 & 0\\\\\n",
    "                            0 & 1 & 0 & 0\\\\\n",
    "                            0 & 0 & 0 & 1\\\\\n",
    "                            0 & 0 & 1 & 0\n",
    "                            \\end{bmatrix} \n",
    "                            =\\begin{bmatrix}\n",
    "                            \\exp{-i\\theta/2} & 0 & 0 & 0\\\\\n",
    "                            0 & \\exp{-i\\theta/2} & 0 & 0\\\\\n",
    "                            0 & 0 & 0 & \\exp{i\\theta/2}\\\\\n",
    "                            0 & 0 & \\exp{i\\theta/2} & 0   \n",
    "                            \\end{bmatrix}$$"
   ]
  },
  {
   "cell_type": "markdown",
   "id": "3d81380a",
   "metadata": {},
   "source": [
    "## Control Control and Target Target commutation"
   ]
  },
  {
   "cell_type": "markdown",
   "id": "92a3318d",
   "metadata": {},
   "source": [
    "### Target Target commutation"
   ]
  },
  {
   "cell_type": "code",
   "execution_count": 274,
   "id": "04ee91de",
   "metadata": {},
   "outputs": [
    {
     "data": {
      "text/plain": [
       "(array([], dtype=int64), array([], dtype=int64))"
      ]
     },
     "execution_count": 274,
     "metadata": {},
     "output_type": "execute_result"
    }
   ],
   "source": [
    "np.nonzero(CX_Q(0,1,3)*CX_Q(1,2,3)*CX_Q(0,2,3)-CX_Q(0,1,3)*CX_Q(0,2,3)*CX_Q(1,2,3))"
   ]
  },
  {
   "cell_type": "markdown",
   "id": "1849a936",
   "metadata": {},
   "source": [
    "### Control Control  commutation"
   ]
  },
  {
   "cell_type": "code",
   "execution_count": 275,
   "id": "5a52b12d",
   "metadata": {},
   "outputs": [
    {
     "data": {
      "text/plain": [
       "(array([], dtype=int64), array([], dtype=int64))"
      ]
     },
     "execution_count": 275,
     "metadata": {},
     "output_type": "execute_result"
    }
   ],
   "source": [
    "np.nonzero(CX_Q(0,1,3)*CX_Q(0,2,3)*CX_Q(1,2,3)-CX_Q(0,2,3)*CX_Q(0,1,3)*CX_Q(1,2,3))"
   ]
  },
  {
   "cell_type": "markdown",
   "id": "d2b6d38b",
   "metadata": {},
   "source": [
    "### Original Toffoli gate in qiskit"
   ]
  },
  {
   "cell_type": "code",
   "execution_count": 334,
   "id": "5fb91909",
   "metadata": {},
   "outputs": [
    {
     "data": {
      "image/png": "[encoded data removed]",
      "text/plain": [
       "<Figure size 748.797x204.68 with 1 Axes>"
      ]
     },
     "execution_count": 334,
     "metadata": {},
     "output_type": "execute_result"
    }
   ],
   "source": [
    "qc1 = QuantumCircuit(3)\n",
    "qc1.h(2)\n",
    "qc1.cx(1,2)\n",
    "qc1.rz(-np.pi/4,2)\n",
    "qc1.cx(0,2)\n",
    "qc1.rz(np.pi/4,2)\n",
    "qc1.cx(1,2)\n",
    "qc1.rz(np.pi/4,1)\n",
    "qc1.rz(-np.pi/4,2)\n",
    "qc1.cx(0,2)\n",
    "qc1.cx(0,1)\n",
    "qc1.rz(np.pi/4,2)\n",
    "qc1.rz(np.pi/4,0)\n",
    "qc1.rz(-np.pi/4,1)\n",
    "qc1.h(2)\n",
    "qc1.cx(0,1)\n",
    "qc1.draw(\"mpl\")"
   ]
  },
  {
   "cell_type": "code",
   "execution_count": 332,
   "id": "774a8e9b",
   "metadata": {},
   "outputs": [
    {
     "name": "stdout",
     "output_type": "stream",
     "text": [
      "Depth = 11\n",
      "Gate count = OrderedDict([('rz', 7), ('cx', 6), ('h', 2)])\n"
     ]
    }
   ],
   "source": [
    "print('Depth = '+str(qc1.depth()))\n",
    "print('Gate count = ' +str(qc1.count_ops()))"
   ]
  },
  {
   "cell_type": "markdown",
   "id": "15dc5aa7",
   "metadata": {},
   "source": [
    "### Depth optimized Toffoli gate"
   ]
  },
  {
   "cell_type": "code",
   "execution_count": 470,
   "id": "ae2a2de0",
   "metadata": {},
   "outputs": [
    {
     "data": {
      "image/png": "[encoded data removed]",
      "text/plain": [
       "<Figure size 748.797x204.68 with 1 Axes>"
      ]
     },
     "execution_count": 470,
     "metadata": {},
     "output_type": "execute_result"
    }
   ],
   "source": [
    "qc2 = QuantumCircuit(3)\n",
    "qc2.h(2)\n",
    "qc2.cx(1,2)\n",
    "qc2.rz(np.pi/4,1)\n",
    "qc2.rz(-np.pi/4,2)\n",
    "qc2.cx(0,2)\n",
    "qc2.rz(np.pi/4,0)\n",
    "qc2.rz(np.pi/4,2)\n",
    "qc2.cx(1,2)\n",
    "qc2.rz(-np.pi/4,2)\n",
    "qc2.cx(0,1)\n",
    "qc2.rz(-np.pi/4,1)\n",
    "qc2.cx(0,2)\n",
    "qc2.rz(np.pi/4,2)\n",
    "qc2.cx(0,1)\n",
    "qc2.h(2)\n",
    "qc2.draw(\"mpl\")"
   ]
  },
  {
   "cell_type": "code",
   "execution_count": 455,
   "id": "7039754e",
   "metadata": {},
   "outputs": [
    {
     "name": "stdout",
     "output_type": "stream",
     "text": [
      "Depth = 10\n",
      "Gate count = OrderedDict([('cx', 6), ('rz', 5), ('h', 2)])\n"
     ]
    }
   ],
   "source": [
    "print('Depth = '+str(qc2.depth()))\n",
    "print('Gate count = ' +str(qc2.count_ops()))"
   ]
  },
  {
   "cell_type": "markdown",
   "id": "3c5fdf45",
   "metadata": {},
   "source": [
    "### Verification of input output after depth optimization"
   ]
  },
  {
   "cell_type": "code",
   "execution_count": 471,
   "id": "d6d53858",
   "metadata": {},
   "outputs": [],
   "source": [
    "sim = Aer.get_backend('aer_simulator')  # Tell Qiskit how to simulate our circuit\n",
    "\n",
    "def Depth_Optimized_Toffoli(Input_String):\n",
    "\n",
    "    qc2 = QuantumCircuit(3)  # Create a quantum circuit with one qubit\n",
    "    #one  = [0,1] # Define initial_state as |1>\n",
    "    #zero = [1,0] \n",
    "    \n",
    "    BITS = {'1':[0,1], '0':[1,0]}\n",
    "    \n",
    "    qc2.initialize( BITS[Input_String[0]] , 0) # Apply initialisation operation to the 0th qubit\n",
    "    qc2.initialize(BITS[Input_String[1]], 1)\n",
    "    qc2.initialize(BITS[Input_String[2]], 2)\n",
    "\n",
    "    ''' Circuit starts here   '''\n",
    "\n",
    "    qc2.h(2)\n",
    "    qc2.cx(1,2)\n",
    "    qc2.rz(np.pi/4,1)\n",
    "    qc2.rz(-np.pi/4,2)\n",
    "    qc2.cx(0,2)\n",
    "    qc2.rz(np.pi/4,0)\n",
    "    qc2.rz(np.pi/4,2)\n",
    "    qc2.cx(1,2)\n",
    "    qc2.rz(-np.pi/4,2)\n",
    "    qc2.cx(0,1)\n",
    "    qc2.rz(-np.pi/4,1)\n",
    "    qc2.cx(0,2)\n",
    "    qc2.rz(np.pi/4,2)\n",
    "    qc2.cx(0,1)\n",
    "    qc2.h(2)\n",
    "    \n",
    "    ''' Circuit ends here   '''\n",
    "\n",
    "    qc2.save_statevector() \n",
    "    qobj = assemble(qc2)     # Create a Qobj from the circuit for the simulator to run\n",
    "    result = sim.run(qobj).result() # Do the simulation and return the result\n",
    "\n",
    "    out_state = result.get_statevector()\n",
    "    #print(out_state) # Display the output state vector\n",
    "    \n",
    "    \n",
    "    qobj = assemble(qc2)\n",
    "    result = sim.run(qobj).result()\n",
    "    counts = result.get_counts()\n",
    "    return qc2,counts"
   ]
  },
  {
   "cell_type": "code",
   "execution_count": 472,
   "id": "3b216c3b",
   "metadata": {},
   "outputs": [
    {
     "name": "stdout",
     "output_type": "stream",
     "text": [
      "Input : 000 \t output : {'000': 1.0}\n",
      "Input : 100 \t output : {'100': 1.0}\n",
      "Input : 010 \t output : {'010': 1.0}\n",
      "Input : 001 \t output : {'001': 1.0}\n",
      "Input : 110 \t output : {'110': 1.0}\n",
      "Input : 101 \t output : {'101': 1.0}\n",
      "Input : 011 \t output : {'111': 1.0}\n",
      "Input : 111 \t output : {'011': 1.0}\n"
     ]
    }
   ],
   "source": [
    "for string in Bin3:\n",
    "    print('Input :', string[::-1], '\\t output :', Depth_Optimized_Toffoli(string)[1])"
   ]
  },
  {
   "cell_type": "markdown",
   "id": "66f0ebba",
   "metadata": {},
   "source": [
    "# Exact CCCX gate"
   ]
  },
  {
   "cell_type": "markdown",
   "id": "96c43b20",
   "metadata": {},
   "source": [
    "### Original CCCX gate in qiskit"
   ]
  },
  {
   "cell_type": "code",
   "execution_count": 479,
   "id": "ceba8f32",
   "metadata": {},
   "outputs": [
    {
     "data": {
      "image/png": "[encoded data removed]",
      "text/plain": [
       "<Figure size 1591.6x565.88 with 1 Axes>"
      ]
     },
     "execution_count": 479,
     "metadata": {},
     "output_type": "execute_result"
    }
   ],
   "source": [
    "qc3 = QuantumCircuit(4)\n",
    "qc3.rz(np.pi/8,0)\n",
    "qc3.rz(np.pi/8,1)\n",
    "qc3.rz(np.pi/8,2)\n",
    "qc3.h(3)\n",
    "qc3.cx(0,1)\n",
    "qc3.rz(-np.pi/8,1)\n",
    "qc3.rz(np.pi/8,3)\n",
    "qc3.cx(0,1)\n",
    "qc3.cx(1,2)\n",
    "qc3.rz(-np.pi/8,2)\n",
    "qc3.cx(0,2)\n",
    "qc3.rz(np.pi/8,2)\n",
    "qc3.cx(1,2)\n",
    "qc3.rz(-np.pi/8,2)\n",
    "qc3.cx(0,2)\n",
    "qc3.cx(2,3)\n",
    "qc3.rz(-np.pi/8,3)\n",
    "qc3.cx(1,3)\n",
    "qc3.rz(np.pi/8,3)\n",
    "qc3.cx(2,3)\n",
    "qc3.rz(-np.pi/8,3)\n",
    "qc3.cx(0,3)\n",
    "qc3.rz(np.pi/8,3)\n",
    "qc3.cx(2,3)\n",
    "qc3.rz(-np.pi/8,3)\n",
    "qc3.cx(1,3)\n",
    "qc3.rz(np.pi/8,3)\n",
    "qc3.cx(2,3)\n",
    "qc3.rz(-np.pi/8,3)\n",
    "qc3.cx(0,3)\n",
    "qc3.h(3)\n",
    "qc3.draw(\"mpl\")"
   ]
  },
  {
   "cell_type": "code",
   "execution_count": 480,
   "id": "6fb0cc68",
   "metadata": {},
   "outputs": [
    {
     "name": "stdout",
     "output_type": "stream",
     "text": [
      "Depth = 27\n",
      "Gate count = OrderedDict([('rz', 15), ('cx', 14), ('h', 2)])\n"
     ]
    }
   ],
   "source": [
    "print('Depth = '+str(qc3.depth()))\n",
    "print('Gate count = ' +str(qc3.count_ops()))"
   ]
  },
  {
   "cell_type": "code",
   "execution_count": 481,
   "id": "58ee64be",
   "metadata": {},
   "outputs": [],
   "source": [
    "sim = Aer.get_backend('aer_simulator')  # Tell Qiskit how to simulate our circuit\n",
    "def Original_CCCX(Input_String):\n",
    "\n",
    "    qc3 = QuantumCircuit(4)  # Create a quantum circuit with one qubit\n",
    "    #one  = [0,1] # Define initial_state as |1>\n",
    "    #zero = [1,0] \n",
    "    \n",
    "    BITS = {'1':[0,1], '0':[1,0]}\n",
    "    \n",
    "    qc3.initialize( BITS[Input_String[0]] , 0) # Apply initialisation operation to the 0th qubit\n",
    "    qc3.initialize(BITS[Input_String[1]], 1)\n",
    "    qc3.initialize(BITS[Input_String[2]], 2)\n",
    "    qc3.initialize(BITS[Input_String[3]], 3)\n",
    "\n",
    "    ''' Circuit starts here   '''\n",
    "\n",
    "    qc3.rz(np.pi/8,0)\n",
    "    qc3.rz(np.pi/8,1)\n",
    "    qc3.rz(np.pi/8,2)\n",
    "    qc3.h(3)\n",
    "    qc3.cx(0,1)\n",
    "    qc3.rz(-np.pi/8,1)\n",
    "    qc3.rz(np.pi/8,3)\n",
    "    qc3.cx(0,1)\n",
    "    qc3.cx(1,2)\n",
    "    qc3.rz(-np.pi/8,2)\n",
    "    qc3.cx(0,2)\n",
    "    qc3.rz(np.pi/8,2)\n",
    "    qc3.cx(1,2)\n",
    "    qc3.rz(-np.pi/8,2)\n",
    "    qc3.cx(0,2)\n",
    "    qc3.cx(2,3)\n",
    "    qc3.rz(-np.pi/8,3)\n",
    "    qc3.cx(1,3)\n",
    "    qc3.rz(np.pi/8,3)\n",
    "    qc3.cx(2,3)\n",
    "    qc3.rz(-np.pi/8,3)\n",
    "    qc3.cx(0,3)\n",
    "    qc3.rz(np.pi/8,3)\n",
    "    qc3.cx(2,3)\n",
    "    qc3.rz(-np.pi/8,3)\n",
    "    qc3.cx(1,3)\n",
    "    qc3.rz(np.pi/8,3)\n",
    "    qc3.cx(2,3)\n",
    "    qc3.rz(-np.pi/8,3)\n",
    "    qc3.cx(0,3)\n",
    "    qc3.h(3)\n",
    "    \n",
    "    ''' Circuit ends here   '''\n",
    "\n",
    "    qc3.save_statevector() \n",
    "    qobj = assemble(qc3)     # Create a Qobj from the circuit for the simulator to run\n",
    "    result = sim.run(qobj).result() # Do the simulation and return the result\n",
    "\n",
    "    out_state = result.get_statevector()\n",
    "    #print(out_state) # Display the output state vector\n",
    "    \n",
    "    \n",
    "    qobj = assemble(qc3)\n",
    "    result = sim.run(qobj).result()\n",
    "    counts = result.get_counts()\n",
    "    return qc3,counts"
   ]
  },
  {
   "cell_type": "markdown",
   "id": "e46271b4",
   "metadata": {},
   "source": [
    "### Input Output verification"
   ]
  },
  {
   "cell_type": "code",
   "execution_count": 483,
   "id": "7e86c428",
   "metadata": {},
   "outputs": [
    {
     "name": "stdout",
     "output_type": "stream",
     "text": [
      "Input : 0000 \t output : {'0000': 0.999999999999999}\n",
      "Input : 1000 \t output : {'1000': 0.999999999999999}\n",
      "Input : 0100 \t output : {'0100': 0.999999999999998}\n",
      "Input : 1100 \t output : {'1100': 0.999999999999999}\n",
      "Input : 1010 \t output : {'1010': 0.999999999999999}\n",
      "Input : 0110 \t output : {'0110': 0.999999999999998}\n",
      "Input : 1110 \t output : {'1110': 0.999999999999999}\n",
      "Input : 1101 \t output : {'1101': 0.999999999999999}\n",
      "Input : 0010 \t output : {'0010': 0.999999999999999}\n",
      "Input : 0001 \t output : {'0001': 0.999999999999999}\n",
      "Input : 1001 \t output : {'1001': 0.999999999999999}\n",
      "Input : 0101 \t output : {'0101': 0.999999999999999}\n",
      "Input : 0011 \t output : {'0011': 0.999999999999999}\n",
      "Input : 1011 \t output : {'1011': 0.999999999999999}\n",
      "Input : 0111 \t output : {'1111': 0.999999999999999}\n",
      "Input : 1111 \t output : {'0111': 0.999999999999999}\n"
     ]
    }
   ],
   "source": [
    "for string in Bin4:\n",
    "    print('Input :', string[::-1], '\\t output :', Original_CCCX(string)[1])"
   ]
  },
  {
   "cell_type": "markdown",
   "id": "f34ddd3d",
   "metadata": {},
   "source": [
    "### Depth optimized CCCX gate"
   ]
  },
  {
   "cell_type": "code",
   "execution_count": 427,
   "id": "3acae301",
   "metadata": {},
   "outputs": [
    {
     "data": {
      "image/png": "[encoded data removed]",
      "text/plain": [
       "<Figure size 1531.4x264.88 with 1 Axes>"
      ]
     },
     "execution_count": 427,
     "metadata": {},
     "output_type": "execute_result"
    }
   ],
   "source": [
    "qc4 = QuantumCircuit(4)\n",
    "qc4.cx(0,2)\n",
    "qc4.h(3)\n",
    "qc4.rz(-np.pi/8,2)\n",
    "qc4.rz(np.pi/8,3)\n",
    "qc4.cx(1,2)\n",
    "qc4.cx(0,3)\n",
    "qc4.rz(np.pi/8,2)\n",
    "qc4.cx(1,2)\n",
    "qc4.cx(2,3)\n",
    "qc4.cx(0,2)\n",
    "qc4.rz(-np.pi/8,3)\n",
    "qc4.cx(1,3)\n",
    "qc4.cx(0,1)\n",
    "qc4.rz(-np.pi/8,1)\n",
    "qc4.cx(0,1)\n",
    "qc4.rz(np.pi/8,3)\n",
    "qc4.cx(2,3)\n",
    "qc4.rz(-np.pi/8,3)\n",
    "qc4.rz(np.pi/8,1)\n",
    "qc4.cx(0,3)\n",
    "qc4.rz(np.pi/8,0)\n",
    "qc4.rz(np.pi/8,3)\n",
    "qc4.cx(2,3)\n",
    "qc4.cx(1,2)\n",
    "qc4.rz(-np.pi/8,3)\n",
    "qc4.cx(1,3)\n",
    "qc4.rz(-np.pi/8,2)\n",
    "qc4.rz(np.pi/8,3)\n",
    "qc4.cx(1,2)\n",
    "qc4.cx(2,3)\n",
    "qc4.rz(np.pi/8,2)\n",
    "qc4.rz(-np.pi/8,3)\n",
    "qc4.cx(0,3)\n",
    "qc4.h(3)\n",
    "qc4.draw(\"mpl\")"
   ]
  },
  {
   "cell_type": "code",
   "execution_count": 473,
   "id": "68c52792",
   "metadata": {},
   "outputs": [
    {
     "name": "stdout",
     "output_type": "stream",
     "text": [
      "Depth = 21\n",
      "Gate count = OrderedDict([('cx', 17), ('rz', 15), ('h', 2)])\n"
     ]
    }
   ],
   "source": [
    "print('Depth = '+str(qc4.depth()))\n",
    "print('Gate count = ' +str(qc4.count_ops()))"
   ]
  },
  {
   "cell_type": "code",
   "execution_count": 484,
   "id": "2a644eff",
   "metadata": {},
   "outputs": [],
   "source": [
    "sim = Aer.get_backend('aer_simulator')  # Tell Qiskit how to simulate our circuit\n",
    "def Depth_Optimized_CCCX(Input_String):\n",
    "\n",
    "    qc4 = QuantumCircuit(4)  # Create a quantum circuit with one qubit\n",
    "    #one  = [0,1] # Define initial_state as |1>\n",
    "    #zero = [1,0] \n",
    "    \n",
    "    BITS = {'1':[0,1], '0':[1,0]}\n",
    "    \n",
    "    qc4.initialize( BITS[Input_String[0]] , 0) # Apply initialisation operation to the 0th qubit\n",
    "    qc4.initialize(BITS[Input_String[1]], 1)\n",
    "    qc4.initialize(BITS[Input_String[2]], 2)\n",
    "    qc4.initialize(BITS[Input_String[3]], 3)\n",
    "\n",
    "    ''' Circuit starts here   '''\n",
    "\n",
    "    qc4.cx(0,2)\n",
    "    qc4.h(3)\n",
    "    qc4.rz(-np.pi/8,2)\n",
    "    qc4.rz(np.pi/8,3)\n",
    "    qc4.cx(1,2)\n",
    "    qc4.cx(0,3)\n",
    "    qc4.rz(np.pi/8,2)\n",
    "    qc4.cx(1,2)\n",
    "    qc4.cx(2,3)\n",
    "    qc4.cx(0,2)\n",
    "    qc4.rz(-np.pi/8,3)\n",
    "    qc4.cx(1,3)\n",
    "    qc4.cx(0,1)\n",
    "    qc4.rz(-np.pi/8,1)\n",
    "    qc4.cx(0,1)\n",
    "    qc4.rz(np.pi/8,3)\n",
    "    qc4.cx(2,3)\n",
    "    qc4.rz(-np.pi/8,3)\n",
    "    qc4.rz(np.pi/8,1)\n",
    "    qc4.cx(0,3)\n",
    "    qc4.rz(np.pi/8,0)\n",
    "    qc4.rz(np.pi/8,3)\n",
    "    qc4.cx(2,3)\n",
    "    qc4.cx(1,2)\n",
    "    qc4.rz(-np.pi/8,3)\n",
    "    qc4.cx(1,3)\n",
    "    qc4.rz(-np.pi/8,2)\n",
    "    qc4.rz(np.pi/8,3)\n",
    "    qc4.cx(1,2)\n",
    "    qc4.cx(2,3)\n",
    "    qc4.rz(np.pi/8,2)\n",
    "    qc4.rz(-np.pi/8,3)\n",
    "    qc4.cx(0,3)\n",
    "    qc4.h(3)\n",
    "    \n",
    "    ''' Circuit ends here   '''\n",
    "\n",
    "    qc4.save_statevector() \n",
    "    qobj = assemble(qc4)     # Create a Qobj from the circuit for the simulator to run\n",
    "    result = sim.run(qobj).result() # Do the simulation and return the result\n",
    "\n",
    "    out_state = result.get_statevector()\n",
    "    #print(out_state) # Display the output state vector\n",
    "    \n",
    "    \n",
    "    qobj = assemble(qc4)\n",
    "    result = sim.run(qobj).result()\n",
    "    counts = result.get_counts()\n",
    "    return qc4,counts"
   ]
  },
  {
   "cell_type": "markdown",
   "id": "03aabc5a",
   "metadata": {},
   "source": [
    "### Input Output verification after depth optimization"
   ]
  },
  {
   "cell_type": "code",
   "execution_count": 485,
   "id": "5080b53e",
   "metadata": {},
   "outputs": [
    {
     "name": "stdout",
     "output_type": "stream",
     "text": [
      "Input : 0000 \t output : {'0000': 0.999999999999998}\n",
      "Input : 1000 \t output : {'1000': 0.999999999999998}\n",
      "Input : 0100 \t output : {'0100': 0.999999999999999}\n",
      "Input : 1100 \t output : {'1100': 0.999999999999998}\n",
      "Input : 1010 \t output : {'1010': 0.999999999999999}\n",
      "Input : 0110 \t output : {'0110': 0.999999999999998}\n",
      "Input : 1110 \t output : {'1110': 0.999999999999999}\n",
      "Input : 1101 \t output : {'1101': 0.999999999999999}\n",
      "Input : 0010 \t output : {'0010': 0.999999999999999}\n",
      "Input : 0001 \t output : {'0001': 0.999999999999999}\n",
      "Input : 1001 \t output : {'1001': 0.999999999999999}\n",
      "Input : 0101 \t output : {'0101': 0.999999999999999}\n",
      "Input : 0011 \t output : {'0011': 0.999999999999998}\n",
      "Input : 1011 \t output : {'1011': 0.999999999999998}\n",
      "Input : 0111 \t output : {'1111': 0.999999999999998}\n",
      "Input : 1111 \t output : {'0111': 0.999999999999998}\n"
     ]
    }
   ],
   "source": [
    "for string in Bin4:\n",
    "    print('Input :', string[::-1], '\\t output :', Depth_Optimized_CCCX(string)[1])"
   ]
  },
  {
   "cell_type": "markdown",
   "id": "53663ad7",
   "metadata": {},
   "source": [
    "### Comparison of the two circuits"
   ]
  },
  {
   "cell_type": "code",
   "execution_count": 477,
   "id": "aed7879b",
   "metadata": {},
   "outputs": [
    {
     "data": {
      "image/png": "[encoded data removed]",
      "text/plain": [
       "<Figure size 1591.6x565.88 with 1 Axes>"
      ]
     },
     "execution_count": 477,
     "metadata": {},
     "output_type": "execute_result"
    }
   ],
   "source": [
    "qc3.draw(\"mpl\")"
   ]
  },
  {
   "cell_type": "code",
   "execution_count": 475,
   "id": "76810f66",
   "metadata": {},
   "outputs": [
    {
     "data": {
      "image/png": "[encoded data removed]",
      "text/plain": [
       "<Figure size 1531.4x264.88 with 1 Axes>"
      ]
     },
     "execution_count": 475,
     "metadata": {},
     "output_type": "execute_result"
    }
   ],
   "source": [
    "qc4.draw(\"mpl\")"
   ]
  },
  {
   "cell_type": "markdown",
   "id": "c140e25d",
   "metadata": {},
   "source": [
    "### Depth optimized Toffoli circuit"
   ]
  },
  {
   "cell_type": "code",
   "execution_count": 268,
   "id": "7469345d",
   "metadata": {},
   "outputs": [],
   "source": [
    "def CX_Q(c,t,N):\n",
    "    ## Changing the simulator \n",
    "    backend = Aer.get_backend('unitary_simulator')\n",
    "\n",
    "    ## The circuit without measurement\n",
    "    circ = QuantumCircuit(N)\n",
    "    circ.cx(c,t)\n",
    "\n",
    "    ## job execution and getting the result as an object\n",
    "    job = execute(circ, backend)\n",
    "    result = job.result()\n",
    "\n",
    "    ## get the unitary matrix from the result object\n",
    "    return np.matrix(result.get_unitary(circ))"
   ]
  },
  {
   "cell_type": "code",
   "execution_count": 112,
   "id": "daaa4c7c",
   "metadata": {},
   "outputs": [],
   "source": [
    "def H_Q(q,N):\n",
    "    ## Changing the simulator \n",
    "    backend = Aer.get_backend('unitary_simulator')\n",
    "\n",
    "    ## The circuit without measurement\n",
    "    circ = QuantumCircuit(N)\n",
    "    circ.h(q)\n",
    "\n",
    "    ## job execution and getting the result as an object\n",
    "    job = execute(circ, backend)\n",
    "    result = job.result()\n",
    "\n",
    "    ## get the unitary matrix from the result object\n",
    "    return np.matrix(result.get_unitary(circ))"
   ]
  },
  {
   "cell_type": "code",
   "execution_count": 113,
   "id": "61f40543",
   "metadata": {},
   "outputs": [],
   "source": [
    "def RZ_Q(theta,q,N):\n",
    "    ## Changing the simulator \n",
    "    backend = Aer.get_backend('unitary_simulator')\n",
    "\n",
    "    ## The circuit without measurement\n",
    "    circ = QuantumCircuit(N)\n",
    "    circ.rz(theta,q)\n",
    "\n",
    "    ## job execution and getting the result as an object\n",
    "    job = execute(circ, backend)\n",
    "    result = job.result()\n",
    "\n",
    "    ## get the unitary matrix from the result object\n",
    "    return np.matrix(result.get_unitary(circ))"
   ]
  },
  {
   "cell_type": "code",
   "execution_count": 147,
   "id": "9565fdfc",
   "metadata": {},
   "outputs": [
    {
     "data": {
      "text/plain": [
       "(array([3, 7]), array([7, 3]))"
      ]
     },
     "execution_count": 147,
     "metadata": {},
     "output_type": "execute_result"
    }
   ],
   "source": [
    "N = 3\n",
    "Or = identity(2**N)\n",
    "Or = Or * H_Q(2,N)\n",
    "Or = Or * CX_Q(1,2,N)\n",
    "Or = Or * RZ_Q(-np.pi/4,2,N)\n",
    "Or = Or * CX_Q(0,2,N)\n",
    "Or = Or * RZ_Q(np.pi/4,2,N)\n",
    "Or = Or * CX_Q(1,2,N)\n",
    "\n",
    "#Or = Or * RZ_Q(np.pi/4,1,N)\n",
    "\n",
    "Or = Or * RZ_Q(-np.pi/4,2,N)\n",
    "Or = Or * CX_Q(0,2,N)\n",
    "\n",
    "#Or = Or * CX_Q(0,1,N)\n",
    "\n",
    "Or = Or * RZ_Q(np.pi/4,2,N)\n",
    "\n",
    "#Or = Or * RZ_Q(np.pi/4, 0, N)\n",
    "#Or = Or * RZ_Q(-np.pi/4, 1,N)\n",
    "\n",
    "Or = Or * H_Q(2,N)\n",
    "\n",
    "#Or = Or * CX_Q(0,1,N)\n",
    "\n",
    "M = Or.A\n",
    "M = M/M[0,0]\n",
    "\n",
    "\n",
    "np.nonzero(np.around(MCX_Q([0,1],2,3)-M,8))"
   ]
  }
 ],
 "metadata": {
  "kernelspec": {
   "display_name": "Python 3 (ipykernel)",
   "language": "python",
   "name": "python3"
  },
  "language_info": {
   "codemirror_mode": {
    "name": "ipython",
    "version": 3
   },
   "file_extension": ".py",
   "mimetype": "text/x-python",
   "name": "python",
   "nbconvert_exporter": "python",
   "pygments_lexer": "ipython3",
   "version": "3.9.7"
  }
 },
 "nbformat": 4,
 "nbformat_minor": 5
}
